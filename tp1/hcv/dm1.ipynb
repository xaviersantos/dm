{
 "metadata": {
  "language_info": {
   "codemirror_mode": {
    "name": "ipython",
    "version": 3
   },
   "file_extension": ".py",
   "mimetype": "text/x-python",
   "name": "python",
   "nbconvert_exporter": "python",
   "pygments_lexer": "ipython3",
   "version": "3.9.0-final"
  },
  "orig_nbformat": 2,
  "kernelspec": {
   "name": "Python 3.9.0 64-bit",
   "display_name": "Python 3.9.0 64-bit",
   "metadata": {
    "interpreter": {
     "hash": "81501fb6968db567c48e2f6497df9bfcfab897da0876ab26c596c8e980f4fbda"
    }
   }
  }
 },
 "nbformat": 4,
 "nbformat_minor": 2,
 "cells": [
  {
   "source": [
    "The data set contains laboratory values of blood donors and Hepatitis C patients and demographic values.\n",
    "The target attribute for classification is Category (blood donors vs. Hepatitis C (including its progress ('just' Hepatitis C, Fibrosis, Cirrhosis).\n"
   ],
   "cell_type": "markdown",
   "metadata": {}
  },
  {
   "source": [
    "All attributes except Category and Sex are numerical. The laboratory data are the attributes 5-14.\n",
    "1) X (Patient ID/No.)\n",
    "2) Category (diagnosis) (values: '0=Blood Donor', '0s=suspect Blood Donor', '1=Hepatitis', '2=Fibrosis', '3=Cirrhosis')\n",
    "3) Age (in years)\n",
    "4) Sex (f,m)\n",
    "5) ALB\n",
    "6) ALP\n",
    "7) ALT\n",
    "8) AST\n",
    "9) BIL\n",
    "10) CHE\n",
    "11) CHOL\n",
    "12) CREA\n",
    "13) GGT\n",
    "14) PROT "
   ],
   "cell_type": "markdown",
   "metadata": {}
  },
  {
   "cell_type": "code",
   "execution_count": 1,
   "metadata": {},
   "outputs": [],
   "source": [
    "###imports\n",
    "import pandas as pd"
   ]
  },
  {
   "cell_type": "code",
   "execution_count": 2,
   "metadata": {},
   "outputs": [
    {
     "output_type": "execute_result",
     "data": {
      "text/plain": [
       "     Unnamed: 0       Category  Age Sex   ALB    ALP    ALT    AST   BIL  \\\n",
       "0             1  0=Blood Donor   32   m  38.5   52.5    7.7   22.1   7.5   \n",
       "1             2  0=Blood Donor   32   m  38.5   70.3   18.0   24.7   3.9   \n",
       "2             3  0=Blood Donor   32   m  46.9   74.7   36.2   52.6   6.1   \n",
       "3             4  0=Blood Donor   32   m  43.2   52.0   30.6   22.6  18.9   \n",
       "4             5  0=Blood Donor   32   m  39.2   74.1   32.6   24.8   9.6   \n",
       "..          ...            ...  ...  ..   ...    ...    ...    ...   ...   \n",
       "610         611    3=Cirrhosis   62   f  32.0  416.6    5.9  110.3  50.0   \n",
       "611         612    3=Cirrhosis   64   f  24.0  102.8    2.9   44.4  20.0   \n",
       "612         613    3=Cirrhosis   64   f  29.0   87.3    3.5   99.0  48.0   \n",
       "613         614    3=Cirrhosis   46   f  33.0    NaN   39.0   62.0  20.0   \n",
       "614         615    3=Cirrhosis   59   f  36.0    NaN  100.0   80.0  12.0   \n",
       "\n",
       "       CHE  CHOL   CREA    GGT  PROT  \n",
       "0     6.93  3.23  106.0   12.1  69.0  \n",
       "1    11.17  4.80   74.0   15.6  76.5  \n",
       "2     8.84  5.20   86.0   33.2  79.3  \n",
       "3     7.33  4.74   80.0   33.8  75.7  \n",
       "4     9.15  4.32   76.0   29.9  68.7  \n",
       "..     ...   ...    ...    ...   ...  \n",
       "610   5.57  6.30   55.7  650.9  68.5  \n",
       "611   1.54  3.02   63.0   35.9  71.3  \n",
       "612   1.66  3.63   66.7   64.2  82.0  \n",
       "613   3.56  4.20   52.0   50.0  71.0  \n",
       "614   9.07  5.30   67.0   34.0  68.0  \n",
       "\n",
       "[615 rows x 14 columns]"
      ],
      "text/html": "<div>\n<style scoped>\n    .dataframe tbody tr th:only-of-type {\n        vertical-align: middle;\n    }\n\n    .dataframe tbody tr th {\n        vertical-align: top;\n    }\n\n    .dataframe thead th {\n        text-align: right;\n    }\n</style>\n<table border=\"1\" class=\"dataframe\">\n  <thead>\n    <tr style=\"text-align: right;\">\n      <th></th>\n      <th>Unnamed: 0</th>\n      <th>Category</th>\n      <th>Age</th>\n      <th>Sex</th>\n      <th>ALB</th>\n      <th>ALP</th>\n      <th>ALT</th>\n      <th>AST</th>\n      <th>BIL</th>\n      <th>CHE</th>\n      <th>CHOL</th>\n      <th>CREA</th>\n      <th>GGT</th>\n      <th>PROT</th>\n    </tr>\n  </thead>\n  <tbody>\n    <tr>\n      <th>0</th>\n      <td>1</td>\n      <td>0=Blood Donor</td>\n      <td>32</td>\n      <td>m</td>\n      <td>38.5</td>\n      <td>52.5</td>\n      <td>7.7</td>\n      <td>22.1</td>\n      <td>7.5</td>\n      <td>6.93</td>\n      <td>3.23</td>\n      <td>106.0</td>\n      <td>12.1</td>\n      <td>69.0</td>\n    </tr>\n    <tr>\n      <th>1</th>\n      <td>2</td>\n      <td>0=Blood Donor</td>\n      <td>32</td>\n      <td>m</td>\n      <td>38.5</td>\n      <td>70.3</td>\n      <td>18.0</td>\n      <td>24.7</td>\n      <td>3.9</td>\n      <td>11.17</td>\n      <td>4.80</td>\n      <td>74.0</td>\n      <td>15.6</td>\n      <td>76.5</td>\n    </tr>\n    <tr>\n      <th>2</th>\n      <td>3</td>\n      <td>0=Blood Donor</td>\n      <td>32</td>\n      <td>m</td>\n      <td>46.9</td>\n      <td>74.7</td>\n      <td>36.2</td>\n      <td>52.6</td>\n      <td>6.1</td>\n      <td>8.84</td>\n      <td>5.20</td>\n      <td>86.0</td>\n      <td>33.2</td>\n      <td>79.3</td>\n    </tr>\n    <tr>\n      <th>3</th>\n      <td>4</td>\n      <td>0=Blood Donor</td>\n      <td>32</td>\n      <td>m</td>\n      <td>43.2</td>\n      <td>52.0</td>\n      <td>30.6</td>\n      <td>22.6</td>\n      <td>18.9</td>\n      <td>7.33</td>\n      <td>4.74</td>\n      <td>80.0</td>\n      <td>33.8</td>\n      <td>75.7</td>\n    </tr>\n    <tr>\n      <th>4</th>\n      <td>5</td>\n      <td>0=Blood Donor</td>\n      <td>32</td>\n      <td>m</td>\n      <td>39.2</td>\n      <td>74.1</td>\n      <td>32.6</td>\n      <td>24.8</td>\n      <td>9.6</td>\n      <td>9.15</td>\n      <td>4.32</td>\n      <td>76.0</td>\n      <td>29.9</td>\n      <td>68.7</td>\n    </tr>\n    <tr>\n      <th>...</th>\n      <td>...</td>\n      <td>...</td>\n      <td>...</td>\n      <td>...</td>\n      <td>...</td>\n      <td>...</td>\n      <td>...</td>\n      <td>...</td>\n      <td>...</td>\n      <td>...</td>\n      <td>...</td>\n      <td>...</td>\n      <td>...</td>\n      <td>...</td>\n    </tr>\n    <tr>\n      <th>610</th>\n      <td>611</td>\n      <td>3=Cirrhosis</td>\n      <td>62</td>\n      <td>f</td>\n      <td>32.0</td>\n      <td>416.6</td>\n      <td>5.9</td>\n      <td>110.3</td>\n      <td>50.0</td>\n      <td>5.57</td>\n      <td>6.30</td>\n      <td>55.7</td>\n      <td>650.9</td>\n      <td>68.5</td>\n    </tr>\n    <tr>\n      <th>611</th>\n      <td>612</td>\n      <td>3=Cirrhosis</td>\n      <td>64</td>\n      <td>f</td>\n      <td>24.0</td>\n      <td>102.8</td>\n      <td>2.9</td>\n      <td>44.4</td>\n      <td>20.0</td>\n      <td>1.54</td>\n      <td>3.02</td>\n      <td>63.0</td>\n      <td>35.9</td>\n      <td>71.3</td>\n    </tr>\n    <tr>\n      <th>612</th>\n      <td>613</td>\n      <td>3=Cirrhosis</td>\n      <td>64</td>\n      <td>f</td>\n      <td>29.0</td>\n      <td>87.3</td>\n      <td>3.5</td>\n      <td>99.0</td>\n      <td>48.0</td>\n      <td>1.66</td>\n      <td>3.63</td>\n      <td>66.7</td>\n      <td>64.2</td>\n      <td>82.0</td>\n    </tr>\n    <tr>\n      <th>613</th>\n      <td>614</td>\n      <td>3=Cirrhosis</td>\n      <td>46</td>\n      <td>f</td>\n      <td>33.0</td>\n      <td>NaN</td>\n      <td>39.0</td>\n      <td>62.0</td>\n      <td>20.0</td>\n      <td>3.56</td>\n      <td>4.20</td>\n      <td>52.0</td>\n      <td>50.0</td>\n      <td>71.0</td>\n    </tr>\n    <tr>\n      <th>614</th>\n      <td>615</td>\n      <td>3=Cirrhosis</td>\n      <td>59</td>\n      <td>f</td>\n      <td>36.0</td>\n      <td>NaN</td>\n      <td>100.0</td>\n      <td>80.0</td>\n      <td>12.0</td>\n      <td>9.07</td>\n      <td>5.30</td>\n      <td>67.0</td>\n      <td>34.0</td>\n      <td>68.0</td>\n    </tr>\n  </tbody>\n</table>\n<p>615 rows × 14 columns</p>\n</div>"
     },
     "metadata": {},
     "execution_count": 2
    }
   ],
   "source": [
    "###getting the dataframe\n",
    "df = pd.read_csv(\"hcvdat0.csv\")\n",
    "df"
   ]
  },
  {
   "cell_type": "code",
   "execution_count": 3,
   "metadata": {},
   "outputs": [
    {
     "output_type": "execute_result",
     "data": {
      "text/plain": [
       "Unnamed: 0     0\n",
       "Category       0\n",
       "Age            0\n",
       "Sex            0\n",
       "ALB            1\n",
       "ALP           18\n",
       "ALT            1\n",
       "AST            0\n",
       "BIL            0\n",
       "CHE            0\n",
       "CHOL          10\n",
       "CREA           0\n",
       "GGT            0\n",
       "PROT           1\n",
       "dtype: int64"
      ]
     },
     "metadata": {},
     "execution_count": 3
    }
   ],
   "source": [
    "###checking for NaN values\n",
    "df.isnull().sum()\n"
   ]
  },
  {
   "cell_type": "code",
   "execution_count": 4,
   "metadata": {},
   "outputs": [
    {
     "output_type": "execute_result",
     "data": {
      "text/plain": [
       "Unnamed: 0    0\n",
       "Category      0\n",
       "Age           0\n",
       "Sex           0\n",
       "ALB           0\n",
       "ALP           0\n",
       "ALT           0\n",
       "AST           0\n",
       "BIL           0\n",
       "CHE           0\n",
       "CHOL          0\n",
       "CREA          0\n",
       "GGT           0\n",
       "PROT          0\n",
       "dtype: int64"
      ]
     },
     "metadata": {},
     "execution_count": 4
    }
   ],
   "source": [
    "###Dropping NaN values\n",
    "df=df.dropna()\n",
    "df.isnull().sum()"
   ]
  },
  {
   "cell_type": "code",
   "execution_count": 5,
   "metadata": {},
   "outputs": [
    {
     "output_type": "execute_result",
     "data": {
      "text/plain": [
       "     Unnamed: 0 Category  Age Sex   ALB    ALP   ALT    AST   BIL    CHE  \\\n",
       "0             1        0   32   m  38.5   52.5   7.7   22.1   7.5   6.93   \n",
       "1             2        0   32   m  38.5   70.3  18.0   24.7   3.9  11.17   \n",
       "2             3        0   32   m  46.9   74.7  36.2   52.6   6.1   8.84   \n",
       "3             4        0   32   m  43.2   52.0  30.6   22.6  18.9   7.33   \n",
       "4             5        0   32   m  39.2   74.1  32.6   24.8   9.6   9.15   \n",
       "..          ...      ...  ...  ..   ...    ...   ...    ...   ...    ...   \n",
       "608         609        3   58   f  34.0   46.4  15.0  150.0   8.0   6.26   \n",
       "609         610        3   59   f  39.0   51.3  19.6  285.8  40.0   5.77   \n",
       "610         611        3   62   f  32.0  416.6   5.9  110.3  50.0   5.57   \n",
       "611         612        3   64   f  24.0  102.8   2.9   44.4  20.0   1.54   \n",
       "612         613        3   64   f  29.0   87.3   3.5   99.0  48.0   1.66   \n",
       "\n",
       "     CHOL   CREA    GGT  PROT  \n",
       "0    3.23  106.0   12.1  69.0  \n",
       "1    4.80   74.0   15.6  76.5  \n",
       "2    5.20   86.0   33.2  79.3  \n",
       "3    4.74   80.0   33.8  75.7  \n",
       "4    4.32   76.0   29.9  68.7  \n",
       "..    ...    ...    ...   ...  \n",
       "608  3.98   56.0   49.7  80.6  \n",
       "609  4.51  136.1  101.1  70.5  \n",
       "610  6.30   55.7  650.9  68.5  \n",
       "611  3.02   63.0   35.9  71.3  \n",
       "612  3.63   66.7   64.2  82.0  \n",
       "\n",
       "[589 rows x 14 columns]"
      ],
      "text/html": "<div>\n<style scoped>\n    .dataframe tbody tr th:only-of-type {\n        vertical-align: middle;\n    }\n\n    .dataframe tbody tr th {\n        vertical-align: top;\n    }\n\n    .dataframe thead th {\n        text-align: right;\n    }\n</style>\n<table border=\"1\" class=\"dataframe\">\n  <thead>\n    <tr style=\"text-align: right;\">\n      <th></th>\n      <th>Unnamed: 0</th>\n      <th>Category</th>\n      <th>Age</th>\n      <th>Sex</th>\n      <th>ALB</th>\n      <th>ALP</th>\n      <th>ALT</th>\n      <th>AST</th>\n      <th>BIL</th>\n      <th>CHE</th>\n      <th>CHOL</th>\n      <th>CREA</th>\n      <th>GGT</th>\n      <th>PROT</th>\n    </tr>\n  </thead>\n  <tbody>\n    <tr>\n      <th>0</th>\n      <td>1</td>\n      <td>0</td>\n      <td>32</td>\n      <td>m</td>\n      <td>38.5</td>\n      <td>52.5</td>\n      <td>7.7</td>\n      <td>22.1</td>\n      <td>7.5</td>\n      <td>6.93</td>\n      <td>3.23</td>\n      <td>106.0</td>\n      <td>12.1</td>\n      <td>69.0</td>\n    </tr>\n    <tr>\n      <th>1</th>\n      <td>2</td>\n      <td>0</td>\n      <td>32</td>\n      <td>m</td>\n      <td>38.5</td>\n      <td>70.3</td>\n      <td>18.0</td>\n      <td>24.7</td>\n      <td>3.9</td>\n      <td>11.17</td>\n      <td>4.80</td>\n      <td>74.0</td>\n      <td>15.6</td>\n      <td>76.5</td>\n    </tr>\n    <tr>\n      <th>2</th>\n      <td>3</td>\n      <td>0</td>\n      <td>32</td>\n      <td>m</td>\n      <td>46.9</td>\n      <td>74.7</td>\n      <td>36.2</td>\n      <td>52.6</td>\n      <td>6.1</td>\n      <td>8.84</td>\n      <td>5.20</td>\n      <td>86.0</td>\n      <td>33.2</td>\n      <td>79.3</td>\n    </tr>\n    <tr>\n      <th>3</th>\n      <td>4</td>\n      <td>0</td>\n      <td>32</td>\n      <td>m</td>\n      <td>43.2</td>\n      <td>52.0</td>\n      <td>30.6</td>\n      <td>22.6</td>\n      <td>18.9</td>\n      <td>7.33</td>\n      <td>4.74</td>\n      <td>80.0</td>\n      <td>33.8</td>\n      <td>75.7</td>\n    </tr>\n    <tr>\n      <th>4</th>\n      <td>5</td>\n      <td>0</td>\n      <td>32</td>\n      <td>m</td>\n      <td>39.2</td>\n      <td>74.1</td>\n      <td>32.6</td>\n      <td>24.8</td>\n      <td>9.6</td>\n      <td>9.15</td>\n      <td>4.32</td>\n      <td>76.0</td>\n      <td>29.9</td>\n      <td>68.7</td>\n    </tr>\n    <tr>\n      <th>...</th>\n      <td>...</td>\n      <td>...</td>\n      <td>...</td>\n      <td>...</td>\n      <td>...</td>\n      <td>...</td>\n      <td>...</td>\n      <td>...</td>\n      <td>...</td>\n      <td>...</td>\n      <td>...</td>\n      <td>...</td>\n      <td>...</td>\n      <td>...</td>\n    </tr>\n    <tr>\n      <th>608</th>\n      <td>609</td>\n      <td>3</td>\n      <td>58</td>\n      <td>f</td>\n      <td>34.0</td>\n      <td>46.4</td>\n      <td>15.0</td>\n      <td>150.0</td>\n      <td>8.0</td>\n      <td>6.26</td>\n      <td>3.98</td>\n      <td>56.0</td>\n      <td>49.7</td>\n      <td>80.6</td>\n    </tr>\n    <tr>\n      <th>609</th>\n      <td>610</td>\n      <td>3</td>\n      <td>59</td>\n      <td>f</td>\n      <td>39.0</td>\n      <td>51.3</td>\n      <td>19.6</td>\n      <td>285.8</td>\n      <td>40.0</td>\n      <td>5.77</td>\n      <td>4.51</td>\n      <td>136.1</td>\n      <td>101.1</td>\n      <td>70.5</td>\n    </tr>\n    <tr>\n      <th>610</th>\n      <td>611</td>\n      <td>3</td>\n      <td>62</td>\n      <td>f</td>\n      <td>32.0</td>\n      <td>416.6</td>\n      <td>5.9</td>\n      <td>110.3</td>\n      <td>50.0</td>\n      <td>5.57</td>\n      <td>6.30</td>\n      <td>55.7</td>\n      <td>650.9</td>\n      <td>68.5</td>\n    </tr>\n    <tr>\n      <th>611</th>\n      <td>612</td>\n      <td>3</td>\n      <td>64</td>\n      <td>f</td>\n      <td>24.0</td>\n      <td>102.8</td>\n      <td>2.9</td>\n      <td>44.4</td>\n      <td>20.0</td>\n      <td>1.54</td>\n      <td>3.02</td>\n      <td>63.0</td>\n      <td>35.9</td>\n      <td>71.3</td>\n    </tr>\n    <tr>\n      <th>612</th>\n      <td>613</td>\n      <td>3</td>\n      <td>64</td>\n      <td>f</td>\n      <td>29.0</td>\n      <td>87.3</td>\n      <td>3.5</td>\n      <td>99.0</td>\n      <td>48.0</td>\n      <td>1.66</td>\n      <td>3.63</td>\n      <td>66.7</td>\n      <td>64.2</td>\n      <td>82.0</td>\n    </tr>\n  </tbody>\n</table>\n<p>589 rows × 14 columns</p>\n</div>"
     },
     "metadata": {},
     "execution_count": 5
    }
   ],
   "source": [
    "###mapping category, a categoric attribute to numeric\n",
    "cat_values = df['Category'].unique()\n",
    "cat_mapping={}\n",
    "for a in cat_values:\n",
    "    aux = a.split('=')\n",
    "    cat_mapping[a]=aux[0]\n",
    "\n",
    "df['Category'] = df['Category'].map(cat_mapping)\n",
    "df"
   ]
  },
  {
   "cell_type": "code",
   "execution_count": 6,
   "metadata": {},
   "outputs": [
    {
     "output_type": "execute_result",
     "data": {
      "text/plain": [
       "     Unnamed: 0 Category  Age  Sex   ALB    ALP   ALT    AST   BIL    CHE  \\\n",
       "0             1        0   32    0  38.5   52.5   7.7   22.1   7.5   6.93   \n",
       "1             2        0   32    0  38.5   70.3  18.0   24.7   3.9  11.17   \n",
       "2             3        0   32    0  46.9   74.7  36.2   52.6   6.1   8.84   \n",
       "3             4        0   32    0  43.2   52.0  30.6   22.6  18.9   7.33   \n",
       "4             5        0   32    0  39.2   74.1  32.6   24.8   9.6   9.15   \n",
       "..          ...      ...  ...  ...   ...    ...   ...    ...   ...    ...   \n",
       "608         609        3   58    1  34.0   46.4  15.0  150.0   8.0   6.26   \n",
       "609         610        3   59    1  39.0   51.3  19.6  285.8  40.0   5.77   \n",
       "610         611        3   62    1  32.0  416.6   5.9  110.3  50.0   5.57   \n",
       "611         612        3   64    1  24.0  102.8   2.9   44.4  20.0   1.54   \n",
       "612         613        3   64    1  29.0   87.3   3.5   99.0  48.0   1.66   \n",
       "\n",
       "     CHOL   CREA    GGT  PROT  \n",
       "0    3.23  106.0   12.1  69.0  \n",
       "1    4.80   74.0   15.6  76.5  \n",
       "2    5.20   86.0   33.2  79.3  \n",
       "3    4.74   80.0   33.8  75.7  \n",
       "4    4.32   76.0   29.9  68.7  \n",
       "..    ...    ...    ...   ...  \n",
       "608  3.98   56.0   49.7  80.6  \n",
       "609  4.51  136.1  101.1  70.5  \n",
       "610  6.30   55.7  650.9  68.5  \n",
       "611  3.02   63.0   35.9  71.3  \n",
       "612  3.63   66.7   64.2  82.0  \n",
       "\n",
       "[589 rows x 14 columns]"
      ],
      "text/html": "<div>\n<style scoped>\n    .dataframe tbody tr th:only-of-type {\n        vertical-align: middle;\n    }\n\n    .dataframe tbody tr th {\n        vertical-align: top;\n    }\n\n    .dataframe thead th {\n        text-align: right;\n    }\n</style>\n<table border=\"1\" class=\"dataframe\">\n  <thead>\n    <tr style=\"text-align: right;\">\n      <th></th>\n      <th>Unnamed: 0</th>\n      <th>Category</th>\n      <th>Age</th>\n      <th>Sex</th>\n      <th>ALB</th>\n      <th>ALP</th>\n      <th>ALT</th>\n      <th>AST</th>\n      <th>BIL</th>\n      <th>CHE</th>\n      <th>CHOL</th>\n      <th>CREA</th>\n      <th>GGT</th>\n      <th>PROT</th>\n    </tr>\n  </thead>\n  <tbody>\n    <tr>\n      <th>0</th>\n      <td>1</td>\n      <td>0</td>\n      <td>32</td>\n      <td>0</td>\n      <td>38.5</td>\n      <td>52.5</td>\n      <td>7.7</td>\n      <td>22.1</td>\n      <td>7.5</td>\n      <td>6.93</td>\n      <td>3.23</td>\n      <td>106.0</td>\n      <td>12.1</td>\n      <td>69.0</td>\n    </tr>\n    <tr>\n      <th>1</th>\n      <td>2</td>\n      <td>0</td>\n      <td>32</td>\n      <td>0</td>\n      <td>38.5</td>\n      <td>70.3</td>\n      <td>18.0</td>\n      <td>24.7</td>\n      <td>3.9</td>\n      <td>11.17</td>\n      <td>4.80</td>\n      <td>74.0</td>\n      <td>15.6</td>\n      <td>76.5</td>\n    </tr>\n    <tr>\n      <th>2</th>\n      <td>3</td>\n      <td>0</td>\n      <td>32</td>\n      <td>0</td>\n      <td>46.9</td>\n      <td>74.7</td>\n      <td>36.2</td>\n      <td>52.6</td>\n      <td>6.1</td>\n      <td>8.84</td>\n      <td>5.20</td>\n      <td>86.0</td>\n      <td>33.2</td>\n      <td>79.3</td>\n    </tr>\n    <tr>\n      <th>3</th>\n      <td>4</td>\n      <td>0</td>\n      <td>32</td>\n      <td>0</td>\n      <td>43.2</td>\n      <td>52.0</td>\n      <td>30.6</td>\n      <td>22.6</td>\n      <td>18.9</td>\n      <td>7.33</td>\n      <td>4.74</td>\n      <td>80.0</td>\n      <td>33.8</td>\n      <td>75.7</td>\n    </tr>\n    <tr>\n      <th>4</th>\n      <td>5</td>\n      <td>0</td>\n      <td>32</td>\n      <td>0</td>\n      <td>39.2</td>\n      <td>74.1</td>\n      <td>32.6</td>\n      <td>24.8</td>\n      <td>9.6</td>\n      <td>9.15</td>\n      <td>4.32</td>\n      <td>76.0</td>\n      <td>29.9</td>\n      <td>68.7</td>\n    </tr>\n    <tr>\n      <th>...</th>\n      <td>...</td>\n      <td>...</td>\n      <td>...</td>\n      <td>...</td>\n      <td>...</td>\n      <td>...</td>\n      <td>...</td>\n      <td>...</td>\n      <td>...</td>\n      <td>...</td>\n      <td>...</td>\n      <td>...</td>\n      <td>...</td>\n      <td>...</td>\n    </tr>\n    <tr>\n      <th>608</th>\n      <td>609</td>\n      <td>3</td>\n      <td>58</td>\n      <td>1</td>\n      <td>34.0</td>\n      <td>46.4</td>\n      <td>15.0</td>\n      <td>150.0</td>\n      <td>8.0</td>\n      <td>6.26</td>\n      <td>3.98</td>\n      <td>56.0</td>\n      <td>49.7</td>\n      <td>80.6</td>\n    </tr>\n    <tr>\n      <th>609</th>\n      <td>610</td>\n      <td>3</td>\n      <td>59</td>\n      <td>1</td>\n      <td>39.0</td>\n      <td>51.3</td>\n      <td>19.6</td>\n      <td>285.8</td>\n      <td>40.0</td>\n      <td>5.77</td>\n      <td>4.51</td>\n      <td>136.1</td>\n      <td>101.1</td>\n      <td>70.5</td>\n    </tr>\n    <tr>\n      <th>610</th>\n      <td>611</td>\n      <td>3</td>\n      <td>62</td>\n      <td>1</td>\n      <td>32.0</td>\n      <td>416.6</td>\n      <td>5.9</td>\n      <td>110.3</td>\n      <td>50.0</td>\n      <td>5.57</td>\n      <td>6.30</td>\n      <td>55.7</td>\n      <td>650.9</td>\n      <td>68.5</td>\n    </tr>\n    <tr>\n      <th>611</th>\n      <td>612</td>\n      <td>3</td>\n      <td>64</td>\n      <td>1</td>\n      <td>24.0</td>\n      <td>102.8</td>\n      <td>2.9</td>\n      <td>44.4</td>\n      <td>20.0</td>\n      <td>1.54</td>\n      <td>3.02</td>\n      <td>63.0</td>\n      <td>35.9</td>\n      <td>71.3</td>\n    </tr>\n    <tr>\n      <th>612</th>\n      <td>613</td>\n      <td>3</td>\n      <td>64</td>\n      <td>1</td>\n      <td>29.0</td>\n      <td>87.3</td>\n      <td>3.5</td>\n      <td>99.0</td>\n      <td>48.0</td>\n      <td>1.66</td>\n      <td>3.63</td>\n      <td>66.7</td>\n      <td>64.2</td>\n      <td>82.0</td>\n    </tr>\n  </tbody>\n</table>\n<p>589 rows × 14 columns</p>\n</div>"
     },
     "metadata": {},
     "execution_count": 6
    }
   ],
   "source": [
    "###mapping sex, a nominal attribute to numeric\n",
    "sex_mapping = {'f':1,'m': 0}\n",
    "df['Sex'] = df['Sex'].map(sex_mapping)\n",
    "df"
   ]
  },
  {
   "cell_type": "code",
   "execution_count": 7,
   "metadata": {},
   "outputs": [
    {
     "output_type": "execute_result",
     "data": {
      "text/plain": [
       "    Category  Age  Sex   ALB    ALP   ALT    AST   BIL    CHE  CHOL   CREA  \\\n",
       "0          0   32    0  38.5   52.5   7.7   22.1   7.5   6.93  3.23  106.0   \n",
       "1          0   32    0  38.5   70.3  18.0   24.7   3.9  11.17  4.80   74.0   \n",
       "2          0   32    0  46.9   74.7  36.2   52.6   6.1   8.84  5.20   86.0   \n",
       "3          0   32    0  43.2   52.0  30.6   22.6  18.9   7.33  4.74   80.0   \n",
       "4          0   32    0  39.2   74.1  32.6   24.8   9.6   9.15  4.32   76.0   \n",
       "..       ...  ...  ...   ...    ...   ...    ...   ...    ...   ...    ...   \n",
       "608        3   58    1  34.0   46.4  15.0  150.0   8.0   6.26  3.98   56.0   \n",
       "609        3   59    1  39.0   51.3  19.6  285.8  40.0   5.77  4.51  136.1   \n",
       "610        3   62    1  32.0  416.6   5.9  110.3  50.0   5.57  6.30   55.7   \n",
       "611        3   64    1  24.0  102.8   2.9   44.4  20.0   1.54  3.02   63.0   \n",
       "612        3   64    1  29.0   87.3   3.5   99.0  48.0   1.66  3.63   66.7   \n",
       "\n",
       "       GGT  PROT  \n",
       "0     12.1  69.0  \n",
       "1     15.6  76.5  \n",
       "2     33.2  79.3  \n",
       "3     33.8  75.7  \n",
       "4     29.9  68.7  \n",
       "..     ...   ...  \n",
       "608   49.7  80.6  \n",
       "609  101.1  70.5  \n",
       "610  650.9  68.5  \n",
       "611   35.9  71.3  \n",
       "612   64.2  82.0  \n",
       "\n",
       "[589 rows x 13 columns]"
      ],
      "text/html": "<div>\n<style scoped>\n    .dataframe tbody tr th:only-of-type {\n        vertical-align: middle;\n    }\n\n    .dataframe tbody tr th {\n        vertical-align: top;\n    }\n\n    .dataframe thead th {\n        text-align: right;\n    }\n</style>\n<table border=\"1\" class=\"dataframe\">\n  <thead>\n    <tr style=\"text-align: right;\">\n      <th></th>\n      <th>Category</th>\n      <th>Age</th>\n      <th>Sex</th>\n      <th>ALB</th>\n      <th>ALP</th>\n      <th>ALT</th>\n      <th>AST</th>\n      <th>BIL</th>\n      <th>CHE</th>\n      <th>CHOL</th>\n      <th>CREA</th>\n      <th>GGT</th>\n      <th>PROT</th>\n    </tr>\n  </thead>\n  <tbody>\n    <tr>\n      <th>0</th>\n      <td>0</td>\n      <td>32</td>\n      <td>0</td>\n      <td>38.5</td>\n      <td>52.5</td>\n      <td>7.7</td>\n      <td>22.1</td>\n      <td>7.5</td>\n      <td>6.93</td>\n      <td>3.23</td>\n      <td>106.0</td>\n      <td>12.1</td>\n      <td>69.0</td>\n    </tr>\n    <tr>\n      <th>1</th>\n      <td>0</td>\n      <td>32</td>\n      <td>0</td>\n      <td>38.5</td>\n      <td>70.3</td>\n      <td>18.0</td>\n      <td>24.7</td>\n      <td>3.9</td>\n      <td>11.17</td>\n      <td>4.80</td>\n      <td>74.0</td>\n      <td>15.6</td>\n      <td>76.5</td>\n    </tr>\n    <tr>\n      <th>2</th>\n      <td>0</td>\n      <td>32</td>\n      <td>0</td>\n      <td>46.9</td>\n      <td>74.7</td>\n      <td>36.2</td>\n      <td>52.6</td>\n      <td>6.1</td>\n      <td>8.84</td>\n      <td>5.20</td>\n      <td>86.0</td>\n      <td>33.2</td>\n      <td>79.3</td>\n    </tr>\n    <tr>\n      <th>3</th>\n      <td>0</td>\n      <td>32</td>\n      <td>0</td>\n      <td>43.2</td>\n      <td>52.0</td>\n      <td>30.6</td>\n      <td>22.6</td>\n      <td>18.9</td>\n      <td>7.33</td>\n      <td>4.74</td>\n      <td>80.0</td>\n      <td>33.8</td>\n      <td>75.7</td>\n    </tr>\n    <tr>\n      <th>4</th>\n      <td>0</td>\n      <td>32</td>\n      <td>0</td>\n      <td>39.2</td>\n      <td>74.1</td>\n      <td>32.6</td>\n      <td>24.8</td>\n      <td>9.6</td>\n      <td>9.15</td>\n      <td>4.32</td>\n      <td>76.0</td>\n      <td>29.9</td>\n      <td>68.7</td>\n    </tr>\n    <tr>\n      <th>...</th>\n      <td>...</td>\n      <td>...</td>\n      <td>...</td>\n      <td>...</td>\n      <td>...</td>\n      <td>...</td>\n      <td>...</td>\n      <td>...</td>\n      <td>...</td>\n      <td>...</td>\n      <td>...</td>\n      <td>...</td>\n      <td>...</td>\n    </tr>\n    <tr>\n      <th>608</th>\n      <td>3</td>\n      <td>58</td>\n      <td>1</td>\n      <td>34.0</td>\n      <td>46.4</td>\n      <td>15.0</td>\n      <td>150.0</td>\n      <td>8.0</td>\n      <td>6.26</td>\n      <td>3.98</td>\n      <td>56.0</td>\n      <td>49.7</td>\n      <td>80.6</td>\n    </tr>\n    <tr>\n      <th>609</th>\n      <td>3</td>\n      <td>59</td>\n      <td>1</td>\n      <td>39.0</td>\n      <td>51.3</td>\n      <td>19.6</td>\n      <td>285.8</td>\n      <td>40.0</td>\n      <td>5.77</td>\n      <td>4.51</td>\n      <td>136.1</td>\n      <td>101.1</td>\n      <td>70.5</td>\n    </tr>\n    <tr>\n      <th>610</th>\n      <td>3</td>\n      <td>62</td>\n      <td>1</td>\n      <td>32.0</td>\n      <td>416.6</td>\n      <td>5.9</td>\n      <td>110.3</td>\n      <td>50.0</td>\n      <td>5.57</td>\n      <td>6.30</td>\n      <td>55.7</td>\n      <td>650.9</td>\n      <td>68.5</td>\n    </tr>\n    <tr>\n      <th>611</th>\n      <td>3</td>\n      <td>64</td>\n      <td>1</td>\n      <td>24.0</td>\n      <td>102.8</td>\n      <td>2.9</td>\n      <td>44.4</td>\n      <td>20.0</td>\n      <td>1.54</td>\n      <td>3.02</td>\n      <td>63.0</td>\n      <td>35.9</td>\n      <td>71.3</td>\n    </tr>\n    <tr>\n      <th>612</th>\n      <td>3</td>\n      <td>64</td>\n      <td>1</td>\n      <td>29.0</td>\n      <td>87.3</td>\n      <td>3.5</td>\n      <td>99.0</td>\n      <td>48.0</td>\n      <td>1.66</td>\n      <td>3.63</td>\n      <td>66.7</td>\n      <td>64.2</td>\n      <td>82.0</td>\n    </tr>\n  </tbody>\n</table>\n<p>589 rows × 13 columns</p>\n</div>"
     },
     "metadata": {},
     "execution_count": 7
    }
   ],
   "source": [
    "###getting rid of the first column as it doesn't add anything\n",
    "df = df.drop(columns=['Unnamed: 0'])\n",
    "df"
   ]
  },
  {
   "cell_type": "code",
   "execution_count": 8,
   "metadata": {},
   "outputs": [
    {
     "output_type": "execute_result",
     "data": {
      "text/plain": [
       "              Age         Sex         ALB         ALP         ALT         AST  \\\n",
       "count  589.000000  589.000000  589.000000  589.000000  589.000000  589.000000   \n",
       "mean    47.417657    0.383701   41.624278   68.123090   26.575382   33.772835   \n",
       "std      9.931334    0.486700    5.761794   25.921072   20.863120   32.866871   \n",
       "min     23.000000    0.000000   14.900000   11.300000    0.900000   10.600000   \n",
       "25%     39.000000    0.000000   38.800000   52.500000   16.400000   21.500000   \n",
       "50%     47.000000    0.000000   41.900000   66.200000   22.700000   25.700000   \n",
       "75%     54.000000    1.000000   45.100000   79.900000   31.900000   31.700000   \n",
       "max     77.000000    1.000000   82.200000  416.600000  325.300000  324.000000   \n",
       "\n",
       "              BIL         CHE        CHOL         CREA         GGT        PROT  \n",
       "count  589.000000  589.000000  589.000000   589.000000  589.000000  589.000000  \n",
       "mean    11.018166    8.203633    5.391341    81.669100   38.198472   71.890153  \n",
       "std     17.406572    2.191073    1.128954    50.696991   54.302407    5.348883  \n",
       "min      0.800000    1.420000    1.430000     8.000000    4.500000   44.800000  \n",
       "25%      5.200000    6.930000    4.620000    68.000000   15.600000   69.300000  \n",
       "50%      7.100000    8.260000    5.310000    77.000000   22.800000   72.100000  \n",
       "75%     11.000000    9.570000    6.080000    89.000000   37.600000   75.200000  \n",
       "max    209.000000   16.410000    9.670000  1079.100000  650.900000   86.500000  "
      ],
      "text/html": "<div>\n<style scoped>\n    .dataframe tbody tr th:only-of-type {\n        vertical-align: middle;\n    }\n\n    .dataframe tbody tr th {\n        vertical-align: top;\n    }\n\n    .dataframe thead th {\n        text-align: right;\n    }\n</style>\n<table border=\"1\" class=\"dataframe\">\n  <thead>\n    <tr style=\"text-align: right;\">\n      <th></th>\n      <th>Age</th>\n      <th>Sex</th>\n      <th>ALB</th>\n      <th>ALP</th>\n      <th>ALT</th>\n      <th>AST</th>\n      <th>BIL</th>\n      <th>CHE</th>\n      <th>CHOL</th>\n      <th>CREA</th>\n      <th>GGT</th>\n      <th>PROT</th>\n    </tr>\n  </thead>\n  <tbody>\n    <tr>\n      <th>count</th>\n      <td>589.000000</td>\n      <td>589.000000</td>\n      <td>589.000000</td>\n      <td>589.000000</td>\n      <td>589.000000</td>\n      <td>589.000000</td>\n      <td>589.000000</td>\n      <td>589.000000</td>\n      <td>589.000000</td>\n      <td>589.000000</td>\n      <td>589.000000</td>\n      <td>589.000000</td>\n    </tr>\n    <tr>\n      <th>mean</th>\n      <td>47.417657</td>\n      <td>0.383701</td>\n      <td>41.624278</td>\n      <td>68.123090</td>\n      <td>26.575382</td>\n      <td>33.772835</td>\n      <td>11.018166</td>\n      <td>8.203633</td>\n      <td>5.391341</td>\n      <td>81.669100</td>\n      <td>38.198472</td>\n      <td>71.890153</td>\n    </tr>\n    <tr>\n      <th>std</th>\n      <td>9.931334</td>\n      <td>0.486700</td>\n      <td>5.761794</td>\n      <td>25.921072</td>\n      <td>20.863120</td>\n      <td>32.866871</td>\n      <td>17.406572</td>\n      <td>2.191073</td>\n      <td>1.128954</td>\n      <td>50.696991</td>\n      <td>54.302407</td>\n      <td>5.348883</td>\n    </tr>\n    <tr>\n      <th>min</th>\n      <td>23.000000</td>\n      <td>0.000000</td>\n      <td>14.900000</td>\n      <td>11.300000</td>\n      <td>0.900000</td>\n      <td>10.600000</td>\n      <td>0.800000</td>\n      <td>1.420000</td>\n      <td>1.430000</td>\n      <td>8.000000</td>\n      <td>4.500000</td>\n      <td>44.800000</td>\n    </tr>\n    <tr>\n      <th>25%</th>\n      <td>39.000000</td>\n      <td>0.000000</td>\n      <td>38.800000</td>\n      <td>52.500000</td>\n      <td>16.400000</td>\n      <td>21.500000</td>\n      <td>5.200000</td>\n      <td>6.930000</td>\n      <td>4.620000</td>\n      <td>68.000000</td>\n      <td>15.600000</td>\n      <td>69.300000</td>\n    </tr>\n    <tr>\n      <th>50%</th>\n      <td>47.000000</td>\n      <td>0.000000</td>\n      <td>41.900000</td>\n      <td>66.200000</td>\n      <td>22.700000</td>\n      <td>25.700000</td>\n      <td>7.100000</td>\n      <td>8.260000</td>\n      <td>5.310000</td>\n      <td>77.000000</td>\n      <td>22.800000</td>\n      <td>72.100000</td>\n    </tr>\n    <tr>\n      <th>75%</th>\n      <td>54.000000</td>\n      <td>1.000000</td>\n      <td>45.100000</td>\n      <td>79.900000</td>\n      <td>31.900000</td>\n      <td>31.700000</td>\n      <td>11.000000</td>\n      <td>9.570000</td>\n      <td>6.080000</td>\n      <td>89.000000</td>\n      <td>37.600000</td>\n      <td>75.200000</td>\n    </tr>\n    <tr>\n      <th>max</th>\n      <td>77.000000</td>\n      <td>1.000000</td>\n      <td>82.200000</td>\n      <td>416.600000</td>\n      <td>325.300000</td>\n      <td>324.000000</td>\n      <td>209.000000</td>\n      <td>16.410000</td>\n      <td>9.670000</td>\n      <td>1079.100000</td>\n      <td>650.900000</td>\n      <td>86.500000</td>\n    </tr>\n  </tbody>\n</table>\n</div>"
     },
     "metadata": {},
     "execution_count": 8
    }
   ],
   "source": [
    "###checking several stats of our current data\n",
    "df.describe()"
   ]
  },
  {
   "cell_type": "code",
   "execution_count": 9,
   "metadata": {},
   "outputs": [],
   "source": [
    "###saving current data to new csv file as a checkpoint\n",
    "df.to_csv(\"preprocessed.csv\")"
   ]
  },
  {
   "cell_type": "code",
   "execution_count": null,
   "metadata": {},
   "outputs": [],
   "source": []
  }
 ]
}