{
 "cells": [
  {
   "source": [
    "# Activity Recognition Using Wearable Physiological Measurements: Selection of Features from a Comprehensive Literature Study"
   ],
   "cell_type": "markdown",
   "metadata": {}
  },
  {
   "cell_type": "markdown",
   "metadata": {},
   "source": [
    "This study had the goal of being able to detect different forms of activity by monitoring different metrics of the human body, such as heart activity, lung activity and physical movement of the arm and hand.\n",
    "\n",
    "The 4 types of activity present in the study are:\n",
    "    \n",
    "    1. Neutral;\n",
    "    2. Emotional;\n",
    "    3. Mental;\n",
    "    4. Physical.\n",
    "\n",
    "The way to induce such activities are as follows:\n",
    "\n",
    "    - Neutral: by having the subjects watch documentaries;\n",
    "    - Emotional: by having the subjects watch movies;\n",
    "    - Mental: by having the subjects play games of mental arithmetics and tetris;\n",
    "    - Physical: by having the subjects go up and down flights of stairs."
   ]
  },
  {
   "cell_type": "code",
   "execution_count": 1,
   "metadata": {},
   "outputs": [],
   "source": [
    "import pandas as pd\n",
    "from sklearn.datasets import make_regression\n",
    "from matplotlib import pyplot as plt\n",
    "import numpy as np\n",
    "from sklearn.model_selection import train_test_split, cross_val_score\n",
    "from sklearn.pipeline import make_pipeline\n",
    "from sklearn.linear_model import LinearRegression\n",
    "from sklearn.preprocessing import PolynomialFeatures"
   ]
  },
  {
   "source": [
    "## Loading the data\n",
    "\n",
    "The data provided from the \"Activity recognition using wearable physiological measurements\" dataset consists in 4480 instances of 533 features each.\n",
    "\n",
    "The first column correspond to the index of the subject. The next 174 attributes are statistics extracted from the ECG signal. The next 151 attributes are features extracted from the TEB signal. The next 104 attributes come from the EDA measured in the arm, and the next 104 ones from the EDA in the hand. The last attribute is the pattern class, that is, the corresponding activity: 1-neutral, 2-emotional, 3-mental and 4-physical."
   ],
   "cell_type": "markdown",
   "metadata": {}
  },
  {
   "cell_type": "code",
   "execution_count": 2,
   "metadata": {},
   "outputs": [
    {
     "output_type": "execute_result",
     "data": {
      "text/plain": [
       "'\\nfor i in labels:\\n    print(n,i, labels.count(i))\\n    n+=1\\n'"
      ]
     },
     "metadata": {},
     "execution_count": 2
    }
   ],
   "source": [
    "with open(\"data/labels.txt\",\"r\",encoding=\"utf-8\") as f:\n",
    "    labels = f.read().split(\"\\n\")\n",
    "    #print(labels)\n",
    "#labelset=set(labels)\n",
    "for n in range(len(labels)):\n",
    "    if 263<=n<=276:\n",
    "        labels[n] = labels[n] + \"_2\"\n",
    "    if 326<=n<=429:\n",
    "        labels[n]=\"Arm_\" + labels[n]\n",
    "    if 430<=n<=533:\n",
    "        labels[n]=\"Hand_\" + labels[n] \n",
    "    if n == len(labels)-1:\n",
    "        labels[n]=\"Activity\"\n",
    "n=0\n",
    "\"\"\"\n",
    "for i in labels:\n",
    "    print(n,i, labels.count(i))\n",
    "    n+=1\n",
    "\"\"\""
   ]
  },
  {
   "cell_type": "code",
   "execution_count": 3,
   "metadata": {},
   "outputs": [],
   "source": [
    "df=pd.read_csv(\"data/data.txt\",sep=\",\",names=labels)"
   ]
  },
  {
   "cell_type": "code",
   "execution_count": 4,
   "metadata": {},
   "outputs": [
    {
     "output_type": "execute_result",
     "data": {
      "text/plain": [
       "      Subject index (1-40)  ECG_original_mean  ECG_original_std  \\\n",
       "0                        1          -0.004125          0.254095   \n",
       "1                        1           0.031029          0.193761   \n",
       "2                        1           0.015678          0.182336   \n",
       "3                        1           0.014525          0.176636   \n",
       "4                        1           0.010349          0.179248   \n",
       "...                    ...                ...               ...   \n",
       "4475                    40          -0.015981          0.254373   \n",
       "4476                    40          -0.008857          0.238946   \n",
       "4477                    40           0.024672          0.213325   \n",
       "4478                    40           0.025063          0.212210   \n",
       "4479                    40           0.002555          0.232580   \n",
       "\n",
       "      ECG_original_trimmean25  ECG_original_median  ECG_original_skewness  \\\n",
       "0                    0.001426             -0.01037              -0.538509   \n",
       "1                    0.012918             -0.00237               0.781415   \n",
       "2                   -0.003028             -0.02337               0.881194   \n",
       "3                   -0.006161             -0.02737               1.024900   \n",
       "4                   -0.008526             -0.02737               0.935697   \n",
       "...                       ...                  ...                    ...   \n",
       "4475                -0.013341             -0.00101              -0.165105   \n",
       "4476                -0.010767             -0.00901              -0.034522   \n",
       "4477                 0.014418              0.01099               0.613841   \n",
       "4478                 0.015656              0.01299               0.593249   \n",
       "4479                -0.004537             -0.00501               0.397291   \n",
       "\n",
       "      ECG_original_kurtosis  ECG_original_max  ECG_original_min  \\\n",
       "0                   5.95534           1.04063          -1.37437   \n",
       "1                   5.18794           0.98963          -0.71937   \n",
       "2                   5.66530           0.87563          -0.71937   \n",
       "3                   6.10968           0.91063          -0.71937   \n",
       "4                   5.83902           0.91063          -0.75637   \n",
       "...                     ...               ...               ...   \n",
       "4475                5.15843           1.03999          -1.19301   \n",
       "4476                5.43013           1.01499          -1.10201   \n",
       "4477                4.55481           1.01499          -0.57301   \n",
       "4478                4.58374           0.95799          -0.64101   \n",
       "4479                4.82234           1.32099          -0.98601   \n",
       "\n",
       "      ECG_original_prctile25  ...  Hand_EDA_Functionals_power_Filt2kurtosis  \\\n",
       "0                   -0.10937  ...                                   1015.36   \n",
       "1                   -0.08737  ...                                   1015.78   \n",
       "2                   -0.08037  ...                                   1016.16   \n",
       "3                   -0.08037  ...                                   1015.61   \n",
       "4                   -0.08337  ...                                   1015.67   \n",
       "...                      ...  ...                                       ...   \n",
       "4475                -0.15801  ...                                   1014.61   \n",
       "4476                -0.14501  ...                                   1016.07   \n",
       "4477                -0.10401  ...                                   1016.06   \n",
       "4478                -0.10001  ...                                   1015.80   \n",
       "4479                -0.13101  ...                                   1015.77   \n",
       "\n",
       "      Hand_EDA_Functionals_power_Filt2max  \\\n",
       "0                            7.170320e+08   \n",
       "1                            7.058540e+08   \n",
       "2                            6.270180e+08   \n",
       "3                            5.597480e+08   \n",
       "4                            4.844730e+08   \n",
       "...                                   ...   \n",
       "4475                         3.237410e+09   \n",
       "4476                         3.156070e+09   \n",
       "4477                         3.052520e+09   \n",
       "4478                         3.322710e+09   \n",
       "4479                         3.412910e+09   \n",
       "\n",
       "      Hand_EDA_Functionals_power_Filt2min  \\\n",
       "0                                0.027384   \n",
       "1                                0.016947   \n",
       "2                                0.008129   \n",
       "3                                0.007377   \n",
       "4                                0.011448   \n",
       "...                                   ...   \n",
       "4475                             0.132094   \n",
       "4476                             0.133406   \n",
       "4477                             0.138525   \n",
       "4478                             0.076570   \n",
       "4479                             0.006876   \n",
       "\n",
       "      Hand_EDA_Functionals_power_Filt2prctile25  \\\n",
       "0                                       2.53425   \n",
       "1                                       2.51513   \n",
       "2                                       2.25959   \n",
       "3                                       2.13924   \n",
       "4                                       1.93595   \n",
       "...                                         ...   \n",
       "4475                                    9.48535   \n",
       "4476                                    8.73701   \n",
       "4477                                    8.90410   \n",
       "4478                                    8.97766   \n",
       "4479                                    9.20105   \n",
       "\n",
       "      Hand_EDA_Functionals_power_Filt2prctile75  \\\n",
       "0                                       17.3882   \n",
       "1                                       16.5914   \n",
       "2                                       15.2312   \n",
       "3                                       14.4663   \n",
       "4                                       12.5493   \n",
       "...                                         ...   \n",
       "4475                                    73.9901   \n",
       "4476                                    68.4041   \n",
       "4477                                    68.5051   \n",
       "4478                                    72.4431   \n",
       "4479                                    75.5608   \n",
       "\n",
       "      Hand_EDA_Functionals_power_Filt2geomean(abs)  \\\n",
       "0                                          8.05589   \n",
       "1                                          7.81769   \n",
       "2                                          7.11684   \n",
       "3                                          6.70236   \n",
       "4                                          6.08647   \n",
       "...                                            ...   \n",
       "4475                                      31.82590   \n",
       "4476                                      29.83820   \n",
       "4477                                      30.45150   \n",
       "4478                                      30.38700   \n",
       "4479                                      30.77280   \n",
       "\n",
       "      Hand_EDA_Functionals_power_Filt2harmmean  \\\n",
       "0                                      1.80247   \n",
       "1                                      1.52349   \n",
       "2                                      1.25860   \n",
       "3                                      1.26643   \n",
       "4                                      1.22387   \n",
       "...                                        ...   \n",
       "4475                                   5.16972   \n",
       "4476                                   5.06743   \n",
       "4477                                   5.88492   \n",
       "4478                                   4.43563   \n",
       "4479                                   2.52386   \n",
       "\n",
       "      Hand_EDA_Functionals_power_Filt2mad  \\\n",
       "0                               1413310.0   \n",
       "1                               1390180.0   \n",
       "2                               1234110.0   \n",
       "3                               1102720.0   \n",
       "4                                954322.0   \n",
       "...                                   ...   \n",
       "4475                            6390410.0   \n",
       "4476                            6214830.0   \n",
       "4477                            6011070.0   \n",
       "4478                            6544010.0   \n",
       "4479                            6721730.0   \n",
       "\n",
       "      Hand_EDA_Functionals_power_Filt2baseline  Activity  \n",
       "0                                    3028080.0         1  \n",
       "1                                    3016420.0         1  \n",
       "2                                    3004430.0         1  \n",
       "3                                    2992170.0         1  \n",
       "4                                    2979610.0         1  \n",
       "...                                        ...       ...  \n",
       "4475                                  398810.0         4  \n",
       "4476                                  412407.0         4  \n",
       "4477                                  425422.0         4  \n",
       "4478                                  439695.0         4  \n",
       "4479                                  454341.0         4  \n",
       "\n",
       "[4480 rows x 535 columns]"
      ],
      "text/html": "<div>\n<style scoped>\n    .dataframe tbody tr th:only-of-type {\n        vertical-align: middle;\n    }\n\n    .dataframe tbody tr th {\n        vertical-align: top;\n    }\n\n    .dataframe thead th {\n        text-align: right;\n    }\n</style>\n<table border=\"1\" class=\"dataframe\">\n  <thead>\n    <tr style=\"text-align: right;\">\n      <th></th>\n      <th>Subject index (1-40)</th>\n      <th>ECG_original_mean</th>\n      <th>ECG_original_std</th>\n      <th>ECG_original_trimmean25</th>\n      <th>ECG_original_median</th>\n      <th>ECG_original_skewness</th>\n      <th>ECG_original_kurtosis</th>\n      <th>ECG_original_max</th>\n      <th>ECG_original_min</th>\n      <th>ECG_original_prctile25</th>\n      <th>...</th>\n      <th>Hand_EDA_Functionals_power_Filt2kurtosis</th>\n      <th>Hand_EDA_Functionals_power_Filt2max</th>\n      <th>Hand_EDA_Functionals_power_Filt2min</th>\n      <th>Hand_EDA_Functionals_power_Filt2prctile25</th>\n      <th>Hand_EDA_Functionals_power_Filt2prctile75</th>\n      <th>Hand_EDA_Functionals_power_Filt2geomean(abs)</th>\n      <th>Hand_EDA_Functionals_power_Filt2harmmean</th>\n      <th>Hand_EDA_Functionals_power_Filt2mad</th>\n      <th>Hand_EDA_Functionals_power_Filt2baseline</th>\n      <th>Activity</th>\n    </tr>\n  </thead>\n  <tbody>\n    <tr>\n      <th>0</th>\n      <td>1</td>\n      <td>-0.004125</td>\n      <td>0.254095</td>\n      <td>0.001426</td>\n      <td>-0.01037</td>\n      <td>-0.538509</td>\n      <td>5.95534</td>\n      <td>1.04063</td>\n      <td>-1.37437</td>\n      <td>-0.10937</td>\n      <td>...</td>\n      <td>1015.36</td>\n      <td>7.170320e+08</td>\n      <td>0.027384</td>\n      <td>2.53425</td>\n      <td>17.3882</td>\n      <td>8.05589</td>\n      <td>1.80247</td>\n      <td>1413310.0</td>\n      <td>3028080.0</td>\n      <td>1</td>\n    </tr>\n    <tr>\n      <th>1</th>\n      <td>1</td>\n      <td>0.031029</td>\n      <td>0.193761</td>\n      <td>0.012918</td>\n      <td>-0.00237</td>\n      <td>0.781415</td>\n      <td>5.18794</td>\n      <td>0.98963</td>\n      <td>-0.71937</td>\n      <td>-0.08737</td>\n      <td>...</td>\n      <td>1015.78</td>\n      <td>7.058540e+08</td>\n      <td>0.016947</td>\n      <td>2.51513</td>\n      <td>16.5914</td>\n      <td>7.81769</td>\n      <td>1.52349</td>\n      <td>1390180.0</td>\n      <td>3016420.0</td>\n      <td>1</td>\n    </tr>\n    <tr>\n      <th>2</th>\n      <td>1</td>\n      <td>0.015678</td>\n      <td>0.182336</td>\n      <td>-0.003028</td>\n      <td>-0.02337</td>\n      <td>0.881194</td>\n      <td>5.66530</td>\n      <td>0.87563</td>\n      <td>-0.71937</td>\n      <td>-0.08037</td>\n      <td>...</td>\n      <td>1016.16</td>\n      <td>6.270180e+08</td>\n      <td>0.008129</td>\n      <td>2.25959</td>\n      <td>15.2312</td>\n      <td>7.11684</td>\n      <td>1.25860</td>\n      <td>1234110.0</td>\n      <td>3004430.0</td>\n      <td>1</td>\n    </tr>\n    <tr>\n      <th>3</th>\n      <td>1</td>\n      <td>0.014525</td>\n      <td>0.176636</td>\n      <td>-0.006161</td>\n      <td>-0.02737</td>\n      <td>1.024900</td>\n      <td>6.10968</td>\n      <td>0.91063</td>\n      <td>-0.71937</td>\n      <td>-0.08037</td>\n      <td>...</td>\n      <td>1015.61</td>\n      <td>5.597480e+08</td>\n      <td>0.007377</td>\n      <td>2.13924</td>\n      <td>14.4663</td>\n      <td>6.70236</td>\n      <td>1.26643</td>\n      <td>1102720.0</td>\n      <td>2992170.0</td>\n      <td>1</td>\n    </tr>\n    <tr>\n      <th>4</th>\n      <td>1</td>\n      <td>0.010349</td>\n      <td>0.179248</td>\n      <td>-0.008526</td>\n      <td>-0.02737</td>\n      <td>0.935697</td>\n      <td>5.83902</td>\n      <td>0.91063</td>\n      <td>-0.75637</td>\n      <td>-0.08337</td>\n      <td>...</td>\n      <td>1015.67</td>\n      <td>4.844730e+08</td>\n      <td>0.011448</td>\n      <td>1.93595</td>\n      <td>12.5493</td>\n      <td>6.08647</td>\n      <td>1.22387</td>\n      <td>954322.0</td>\n      <td>2979610.0</td>\n      <td>1</td>\n    </tr>\n    <tr>\n      <th>...</th>\n      <td>...</td>\n      <td>...</td>\n      <td>...</td>\n      <td>...</td>\n      <td>...</td>\n      <td>...</td>\n      <td>...</td>\n      <td>...</td>\n      <td>...</td>\n      <td>...</td>\n      <td>...</td>\n      <td>...</td>\n      <td>...</td>\n      <td>...</td>\n      <td>...</td>\n      <td>...</td>\n      <td>...</td>\n      <td>...</td>\n      <td>...</td>\n      <td>...</td>\n      <td>...</td>\n    </tr>\n    <tr>\n      <th>4475</th>\n      <td>40</td>\n      <td>-0.015981</td>\n      <td>0.254373</td>\n      <td>-0.013341</td>\n      <td>-0.00101</td>\n      <td>-0.165105</td>\n      <td>5.15843</td>\n      <td>1.03999</td>\n      <td>-1.19301</td>\n      <td>-0.15801</td>\n      <td>...</td>\n      <td>1014.61</td>\n      <td>3.237410e+09</td>\n      <td>0.132094</td>\n      <td>9.48535</td>\n      <td>73.9901</td>\n      <td>31.82590</td>\n      <td>5.16972</td>\n      <td>6390410.0</td>\n      <td>398810.0</td>\n      <td>4</td>\n    </tr>\n    <tr>\n      <th>4476</th>\n      <td>40</td>\n      <td>-0.008857</td>\n      <td>0.238946</td>\n      <td>-0.010767</td>\n      <td>-0.00901</td>\n      <td>-0.034522</td>\n      <td>5.43013</td>\n      <td>1.01499</td>\n      <td>-1.10201</td>\n      <td>-0.14501</td>\n      <td>...</td>\n      <td>1016.07</td>\n      <td>3.156070e+09</td>\n      <td>0.133406</td>\n      <td>8.73701</td>\n      <td>68.4041</td>\n      <td>29.83820</td>\n      <td>5.06743</td>\n      <td>6214830.0</td>\n      <td>412407.0</td>\n      <td>4</td>\n    </tr>\n    <tr>\n      <th>4477</th>\n      <td>40</td>\n      <td>0.024672</td>\n      <td>0.213325</td>\n      <td>0.014418</td>\n      <td>0.01099</td>\n      <td>0.613841</td>\n      <td>4.55481</td>\n      <td>1.01499</td>\n      <td>-0.57301</td>\n      <td>-0.10401</td>\n      <td>...</td>\n      <td>1016.06</td>\n      <td>3.052520e+09</td>\n      <td>0.138525</td>\n      <td>8.90410</td>\n      <td>68.5051</td>\n      <td>30.45150</td>\n      <td>5.88492</td>\n      <td>6011070.0</td>\n      <td>425422.0</td>\n      <td>4</td>\n    </tr>\n    <tr>\n      <th>4478</th>\n      <td>40</td>\n      <td>0.025063</td>\n      <td>0.212210</td>\n      <td>0.015656</td>\n      <td>0.01299</td>\n      <td>0.593249</td>\n      <td>4.58374</td>\n      <td>0.95799</td>\n      <td>-0.64101</td>\n      <td>-0.10001</td>\n      <td>...</td>\n      <td>1015.80</td>\n      <td>3.322710e+09</td>\n      <td>0.076570</td>\n      <td>8.97766</td>\n      <td>72.4431</td>\n      <td>30.38700</td>\n      <td>4.43563</td>\n      <td>6544010.0</td>\n      <td>439695.0</td>\n      <td>4</td>\n    </tr>\n    <tr>\n      <th>4479</th>\n      <td>40</td>\n      <td>0.002555</td>\n      <td>0.232580</td>\n      <td>-0.004537</td>\n      <td>-0.00501</td>\n      <td>0.397291</td>\n      <td>4.82234</td>\n      <td>1.32099</td>\n      <td>-0.98601</td>\n      <td>-0.13101</td>\n      <td>...</td>\n      <td>1015.77</td>\n      <td>3.412910e+09</td>\n      <td>0.006876</td>\n      <td>9.20105</td>\n      <td>75.5608</td>\n      <td>30.77280</td>\n      <td>2.52386</td>\n      <td>6721730.0</td>\n      <td>454341.0</td>\n      <td>4</td>\n    </tr>\n  </tbody>\n</table>\n<p>4480 rows × 535 columns</p>\n</div>"
     },
     "metadata": {},
     "execution_count": 4
    }
   ],
   "source": [
    "df"
   ]
  },
  {
   "cell_type": "code",
   "execution_count": 5,
   "metadata": {},
   "outputs": [
    {
     "output_type": "execute_result",
     "data": {
      "text/plain": [
       "Subject index (1-40)                            0\n",
       "ECG_original_mean                               0\n",
       "ECG_original_std                                0\n",
       "ECG_original_trimmean25                         0\n",
       "ECG_original_median                             0\n",
       "                                               ..\n",
       "Hand_EDA_Functionals_power_Filt2geomean(abs)    0\n",
       "Hand_EDA_Functionals_power_Filt2harmmean        0\n",
       "Hand_EDA_Functionals_power_Filt2mad             0\n",
       "Hand_EDA_Functionals_power_Filt2baseline        0\n",
       "Activity                                        0\n",
       "Length: 535, dtype: int64"
      ]
     },
     "metadata": {},
     "execution_count": 5
    }
   ],
   "source": [
    "df.isnull().sum()"
   ]
  },
  {
   "cell_type": "code",
   "execution_count": 6,
   "metadata": {},
   "outputs": [
    {
     "output_type": "execute_result",
     "data": {
      "text/plain": [
       "          Subject index (1-40)  ECG_original_mean  ECG_original_std  \\\n",
       "Activity                                                              \n",
       "1                         20.5          -0.017248          0.224012   \n",
       "2                         20.5          -0.015742          0.293427   \n",
       "3                         20.5          -0.017345          0.286182   \n",
       "4                         20.5           0.326771          1.151261   \n",
       "\n",
       "          ECG_original_trimmean25  ECG_original_median  ECG_original_skewness  \\\n",
       "Activity                                                                        \n",
       "1                       -0.035954            -0.056528               0.937650   \n",
       "2                       -0.030485            -0.054670               0.935858   \n",
       "3                       -0.033134            -0.057011               0.840043   \n",
       "4                        0.357649             0.443789              -0.149969   \n",
       "\n",
       "          ECG_original_kurtosis  ECG_original_max  ECG_original_min  \\\n",
       "Activity                                                              \n",
       "1                      8.602679          0.958904         -0.723009   \n",
       "2                      8.273527          1.049734         -0.849642   \n",
       "3                      7.112982          1.019942         -0.845316   \n",
       "4                      3.957743          2.987728         -2.554684   \n",
       "\n",
       "          ECG_original_prctile25  ...  \\\n",
       "Activity                          ...   \n",
       "1                      -0.147302  ...   \n",
       "2                      -0.198350  ...   \n",
       "3                      -0.209066  ...   \n",
       "4                      -0.486353  ...   \n",
       "\n",
       "          Hand_EDA_Functionals_power_Filt2skewness  \\\n",
       "Activity                                             \n",
       "1                                        31.076512   \n",
       "2                                        30.909530   \n",
       "3                                        30.818430   \n",
       "4                                        31.161746   \n",
       "\n",
       "          Hand_EDA_Functionals_power_Filt2kurtosis  \\\n",
       "Activity                                             \n",
       "1                                       999.006146   \n",
       "2                                       991.348837   \n",
       "3                                       987.180680   \n",
       "4                                      1002.965500   \n",
       "\n",
       "          Hand_EDA_Functionals_power_Filt2max  \\\n",
       "Activity                                        \n",
       "1                                9.787362e+09   \n",
       "2                                1.181007e+10   \n",
       "3                                1.783115e+10   \n",
       "4                                3.190325e+10   \n",
       "\n",
       "          Hand_EDA_Functionals_power_Filt2min  \\\n",
       "Activity                                        \n",
       "1                                    0.086875   \n",
       "2                                    0.096258   \n",
       "3                                    0.106472   \n",
       "4                                    0.297815   \n",
       "\n",
       "          Hand_EDA_Functionals_power_Filt2prctile25  \\\n",
       "Activity                                              \n",
       "1                                         26.094028   \n",
       "2                                         31.243043   \n",
       "3                                         46.549498   \n",
       "4                                         83.263698   \n",
       "\n",
       "          Hand_EDA_Functionals_power_Filt2prctile75  \\\n",
       "Activity                                              \n",
       "1                                        209.055769   \n",
       "2                                        251.225875   \n",
       "3                                        376.558618   \n",
       "4                                        675.167256   \n",
       "\n",
       "          Hand_EDA_Functionals_power_Filt2geomean(abs)  \\\n",
       "Activity                                                 \n",
       "1                                            79.662689   \n",
       "2                                            95.839197   \n",
       "3                                           142.193595   \n",
       "4                                           259.468831   \n",
       "\n",
       "          Hand_EDA_Functionals_power_Filt2harmmean  \\\n",
       "Activity                                             \n",
       "1                                         5.520061   \n",
       "2                                         6.893809   \n",
       "3                                         8.290682   \n",
       "4                                        16.685674   \n",
       "\n",
       "          Hand_EDA_Functionals_power_Filt2mad  \\\n",
       "Activity                                        \n",
       "1                                1.927879e+07   \n",
       "2                                2.326209e+07   \n",
       "3                                3.512487e+07   \n",
       "4                                6.286903e+07   \n",
       "\n",
       "          Hand_EDA_Functionals_power_Filt2baseline  \n",
       "Activity                                            \n",
       "1                                     1.358014e+07  \n",
       "2                                     1.275656e+07  \n",
       "3                                     1.302790e+07  \n",
       "4                                     1.502544e+07  \n",
       "\n",
       "[4 rows x 534 columns]"
      ],
      "text/html": "<div>\n<style scoped>\n    .dataframe tbody tr th:only-of-type {\n        vertical-align: middle;\n    }\n\n    .dataframe tbody tr th {\n        vertical-align: top;\n    }\n\n    .dataframe thead th {\n        text-align: right;\n    }\n</style>\n<table border=\"1\" class=\"dataframe\">\n  <thead>\n    <tr style=\"text-align: right;\">\n      <th></th>\n      <th>Subject index (1-40)</th>\n      <th>ECG_original_mean</th>\n      <th>ECG_original_std</th>\n      <th>ECG_original_trimmean25</th>\n      <th>ECG_original_median</th>\n      <th>ECG_original_skewness</th>\n      <th>ECG_original_kurtosis</th>\n      <th>ECG_original_max</th>\n      <th>ECG_original_min</th>\n      <th>ECG_original_prctile25</th>\n      <th>...</th>\n      <th>Hand_EDA_Functionals_power_Filt2skewness</th>\n      <th>Hand_EDA_Functionals_power_Filt2kurtosis</th>\n      <th>Hand_EDA_Functionals_power_Filt2max</th>\n      <th>Hand_EDA_Functionals_power_Filt2min</th>\n      <th>Hand_EDA_Functionals_power_Filt2prctile25</th>\n      <th>Hand_EDA_Functionals_power_Filt2prctile75</th>\n      <th>Hand_EDA_Functionals_power_Filt2geomean(abs)</th>\n      <th>Hand_EDA_Functionals_power_Filt2harmmean</th>\n      <th>Hand_EDA_Functionals_power_Filt2mad</th>\n      <th>Hand_EDA_Functionals_power_Filt2baseline</th>\n    </tr>\n    <tr>\n      <th>Activity</th>\n      <th></th>\n      <th></th>\n      <th></th>\n      <th></th>\n      <th></th>\n      <th></th>\n      <th></th>\n      <th></th>\n      <th></th>\n      <th></th>\n      <th></th>\n      <th></th>\n      <th></th>\n      <th></th>\n      <th></th>\n      <th></th>\n      <th></th>\n      <th></th>\n      <th></th>\n      <th></th>\n      <th></th>\n    </tr>\n  </thead>\n  <tbody>\n    <tr>\n      <th>1</th>\n      <td>20.5</td>\n      <td>-0.017248</td>\n      <td>0.224012</td>\n      <td>-0.035954</td>\n      <td>-0.056528</td>\n      <td>0.937650</td>\n      <td>8.602679</td>\n      <td>0.958904</td>\n      <td>-0.723009</td>\n      <td>-0.147302</td>\n      <td>...</td>\n      <td>31.076512</td>\n      <td>999.006146</td>\n      <td>9.787362e+09</td>\n      <td>0.086875</td>\n      <td>26.094028</td>\n      <td>209.055769</td>\n      <td>79.662689</td>\n      <td>5.520061</td>\n      <td>1.927879e+07</td>\n      <td>1.358014e+07</td>\n    </tr>\n    <tr>\n      <th>2</th>\n      <td>20.5</td>\n      <td>-0.015742</td>\n      <td>0.293427</td>\n      <td>-0.030485</td>\n      <td>-0.054670</td>\n      <td>0.935858</td>\n      <td>8.273527</td>\n      <td>1.049734</td>\n      <td>-0.849642</td>\n      <td>-0.198350</td>\n      <td>...</td>\n      <td>30.909530</td>\n      <td>991.348837</td>\n      <td>1.181007e+10</td>\n      <td>0.096258</td>\n      <td>31.243043</td>\n      <td>251.225875</td>\n      <td>95.839197</td>\n      <td>6.893809</td>\n      <td>2.326209e+07</td>\n      <td>1.275656e+07</td>\n    </tr>\n    <tr>\n      <th>3</th>\n      <td>20.5</td>\n      <td>-0.017345</td>\n      <td>0.286182</td>\n      <td>-0.033134</td>\n      <td>-0.057011</td>\n      <td>0.840043</td>\n      <td>7.112982</td>\n      <td>1.019942</td>\n      <td>-0.845316</td>\n      <td>-0.209066</td>\n      <td>...</td>\n      <td>30.818430</td>\n      <td>987.180680</td>\n      <td>1.783115e+10</td>\n      <td>0.106472</td>\n      <td>46.549498</td>\n      <td>376.558618</td>\n      <td>142.193595</td>\n      <td>8.290682</td>\n      <td>3.512487e+07</td>\n      <td>1.302790e+07</td>\n    </tr>\n    <tr>\n      <th>4</th>\n      <td>20.5</td>\n      <td>0.326771</td>\n      <td>1.151261</td>\n      <td>0.357649</td>\n      <td>0.443789</td>\n      <td>-0.149969</td>\n      <td>3.957743</td>\n      <td>2.987728</td>\n      <td>-2.554684</td>\n      <td>-0.486353</td>\n      <td>...</td>\n      <td>31.161746</td>\n      <td>1002.965500</td>\n      <td>3.190325e+10</td>\n      <td>0.297815</td>\n      <td>83.263698</td>\n      <td>675.167256</td>\n      <td>259.468831</td>\n      <td>16.685674</td>\n      <td>6.286903e+07</td>\n      <td>1.502544e+07</td>\n    </tr>\n  </tbody>\n</table>\n<p>4 rows × 534 columns</p>\n</div>"
     },
     "metadata": {},
     "execution_count": 6
    }
   ],
   "source": [
    "df.groupby('Activity').mean()"
   ]
  },
  {
   "cell_type": "code",
   "execution_count": 7,
   "metadata": {},
   "outputs": [
    {
     "output_type": "stream",
     "name": "stdout",
     "text": [
      "X.shape = (4480, 534)\ny shape = (4480,)\n"
     ]
    }
   ],
   "source": [
    "X = df.drop(\"Activity\", axis=1)\n",
    "y = df[\"Activity\"]\n",
    "\n",
    "print(\"X.shape = \" + str(X.shape))\n",
    "print(\"y.shape = \" + str(y.shape))"
   ]
  },
  {
   "source": [
    "## Feature Selection"
   ],
   "cell_type": "markdown",
   "metadata": {}
  },
  {
   "source": [
    "N_max = [5, 10, 20, 40, 60, 80]\n",
    "\n",
    "# a “population” of 100 combinations of features (chromosomes) is randomly generated.\n",
    "\n",
    "# f there are two combinations with exactly the same set of features, one of them is modified by randomly replacing one of the features\n",
    "\n",
    "# For each combination in the population, if the number of features is greater than the maximum N max , then features are randomly removed from the chromosome until the condition is satisfied\n",
    "\n",
    "# Each combination is ranked using the mean squared error of a LSLC measured using the design set\n",
    "\n",
    "# The best 10 combinations of the population are selected as “parents” that survive and are used to regenerate the remaining 90 chromosomes using a random crossover of the parents\n",
    "\n",
    "# Mutations are added to the population by changing a feature with a probability of 1%. It is important to highlight that the best individual of each population remains unaltered. The process iterates in Step 2 until a given number of generations are evaluated."
   ],
   "cell_type": "code",
   "metadata": {},
   "execution_count": 8,
   "outputs": []
  },
  {
   "cell_type": "code",
   "execution_count": null,
   "metadata": {},
   "outputs": [],
   "source": []
  },
  {
   "source": [
    "## Classification"
   ],
   "cell_type": "markdown",
   "metadata": {}
  },
  {
   "source": [
    "### Least Squares Linear Classifier (LSLC)"
   ],
   "cell_type": "markdown",
   "metadata": {}
  },
  {
   "cell_type": "code",
   "execution_count": 9,
   "metadata": {},
   "outputs": [
    {
     "output_type": "stream",
     "name": "stdout",
     "text": [
      "Cross Validation scores: [  0.64959563   0.79162877   0.80946387   0.87233028   0.91384746\n   0.88550389   0.64400538   0.62334097 -20.9447981    0.65994375\n   0.58635386   0.84512257   0.45807501   0.67547044   0.31909445\n   0.83449538   0.63208934   0.81744175   0.75580048   0.74622545\n -19.84389885   0.26642051   0.63483732  -2.01589014   0.77462539\n   0.76560493   0.69003497   0.60767891   0.39915285   0.84415247\n   0.74067035   0.73902414   0.60272605   0.69730805   0.75514211\n   0.59038778  -0.13125502   0.71970919 -83.26358276  -8.041628  ]\n\nAverage 40-Fold CV Score: -2.772343728745898\n"
     ]
    }
   ],
   "source": [
    "reg_linear = LinearRegression()\n",
    "\n",
    "# k is the number of subjects available in the design database: 40 subjects\n",
    "k = 40\n",
    "\n",
    "# cross validation\n",
    "reg_linear_scores = cross_val_score(reg_linear, X, y, cv=k, scoring='r2')\n",
    "\n",
    "# outputs the scores\n",
    "print('Cross Validation scores: {}'.format(reg_linear_scores))\n",
    "print(\"\\nAverage 40-Fold CV Score: {}\".format(np.mean(reg_linear_scores)))"
   ]
  },
  {
   "source": [
    "### Least Squares Quadratic Classifier (LSQC)"
   ],
   "cell_type": "markdown",
   "metadata": {}
  },
  {
   "cell_type": "code",
   "execution_count": 13,
   "metadata": {},
   "outputs": [],
   "source": [
    "poly = PolynomialFeatures(degree=2)\n",
    "\n",
    "X_poli = poly.fit_transform(X)\n",
    "y_poli = poly.fit_transform(y.values.reshape(-1, 1))\n",
    "\n",
    "reg_quadratic = make_pipeline(PolynomialFeatures(2), LinearRegression())\n",
    "\n",
    "\n",
    "# cross validation\n",
    "reg_quadratic_scores = cross_val_score(reg_quadratic, X_poli, y_poli, cv=k, scoring='r2')\n",
    "\n",
    "# outputs the scores\n",
    "print('Cross Validation scores: {}'.format(reg_quadratic_scores))\n",
    "print(\"\\nAverage 40-Fold CV Score: {}\".format(np.mean(reg_quadratic_scores)))"
   ]
  },
  {
   "source": [
    "### Support Vector Machines (SVMs)"
   ],
   "cell_type": "markdown",
   "metadata": {}
  },
  {
   "cell_type": "code",
   "execution_count": null,
   "metadata": {},
   "outputs": [],
   "source": []
  },
  {
   "source": [
    "### Multi-layer Perceptrons (MLPs)"
   ],
   "cell_type": "markdown",
   "metadata": {}
  },
  {
   "cell_type": "code",
   "execution_count": null,
   "metadata": {},
   "outputs": [],
   "source": []
  },
  {
   "source": [
    "### k-Nearest Neighbor (kNN)"
   ],
   "cell_type": "markdown",
   "metadata": {}
  },
  {
   "cell_type": "code",
   "execution_count": null,
   "metadata": {},
   "outputs": [],
   "source": []
  },
  {
   "source": [
    "### Centroid Displacement-Based k-Nearest Neighbor (CDNN)"
   ],
   "cell_type": "markdown",
   "metadata": {}
  },
  {
   "cell_type": "code",
   "execution_count": null,
   "metadata": {},
   "outputs": [],
   "source": []
  },
  {
   "source": [
    "### Random Forests (RF)"
   ],
   "cell_type": "markdown",
   "metadata": {}
  },
  {
   "cell_type": "code",
   "execution_count": null,
   "metadata": {},
   "outputs": [],
   "source": []
  }
 ],
 "metadata": {
  "kernelspec": {
   "display_name": "Python 3",
   "language": "python",
   "name": "python3"
  },
  "language_info": {
   "codemirror_mode": {
    "name": "ipython",
    "version": 3
   },
   "file_extension": ".py",
   "mimetype": "text/x-python",
   "name": "python",
   "nbconvert_exporter": "python",
   "pygments_lexer": "ipython3",
   "version": "3.8.5-final"
  }
 },
 "nbformat": 4,
 "nbformat_minor": 4
}